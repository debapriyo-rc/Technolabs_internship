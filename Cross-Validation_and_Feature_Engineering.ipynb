{
 "cells": [
  {
   "cell_type": "markdown",
   "metadata": {},
   "source": [
    "**Run the following two cells before you begin.**"
   ]
  },
  {
   "cell_type": "code",
   "execution_count": 1,
   "metadata": {},
   "outputs": [
    {
     "data": {
      "application/javascript": [
       "IPython.notebook.set_autosave_interval(10000)"
      ]
     },
     "metadata": {},
     "output_type": "display_data"
    },
    {
     "name": "stdout",
     "output_type": "stream",
     "text": [
      "Autosaving every 10 seconds\n"
     ]
    }
   ],
   "source": [
    "%autosave 10"
   ]
  },
  {
   "cell_type": "code",
   "execution_count": 2,
   "metadata": {},
   "outputs": [],
   "source": [
    "import pandas as pd\n",
    "import numpy as np\n",
    "import matplotlib.pyplot as plt\n",
    "\n",
    "from sklearn.model_selection import train_test_split, StratifiedKFold\n",
    "from sklearn.preprocessing import MinMaxScaler\n",
    "from sklearn.linear_model import LogisticRegression\n",
    "from sklearn.metrics import roc_auc_score, roc_curve\n",
    "\n",
    "%matplotlib inline"
   ]
  },
  
  {
   "cell_type": "markdown",
   "metadata": {},
   "source": [
    "**First, import the cleaned data set. Then, select the features from the DataFrame of the case study data.**\n",
    "    \n",
    "These features should be: `'LIMIT_BAL'`, `'EDUCATION'`, `'MARRIAGE'`, `'AGE'`, `'PAY_1'`, `'BILL_AMT1'`, `'BILL_AMT2'`, `'BILL_AMT3'`, `'BILL_AMT4'`, `'BILL_AMT5'`, `'BILL_AMT6'`, `'PAY_AMT1'`, `'PAY_AMT2'`, `'PAY_AMT3'`, `'PAY_AMT4'`, `'PAY_AMT5'`, AND `'PAY_AMT6'`."
   ]
  },
  {
   "cell_type": "code",
   "execution_count": 3,
   "metadata": {},
   "outputs": [],
   "source": [
    "# Import data set\n",
    "df = pd.read_csv('cleaned_data.csv')"
   ]
  },
  {
   "cell_type": "code",
   "execution_count": 4,
   "metadata": {},
   "outputs": [
    {
     "data": {
      "text/plain": [
       "['LIMIT_BAL',\n",
       " 'EDUCATION',\n",
       " 'MARRIAGE',\n",
       " 'AGE',\n",
       " 'PAY_1',\n",
       " 'BILL_AMT1',\n",
       " 'BILL_AMT2',\n",
       " 'BILL_AMT3',\n",
       " 'BILL_AMT4',\n",
       " 'BILL_AMT5',\n",
       " 'BILL_AMT6',\n",
       " 'PAY_AMT1',\n",
       " 'PAY_AMT2',\n",
       " 'PAY_AMT3',\n",
       " 'PAY_AMT4',\n",
       " 'PAY_AMT5',\n",
       " 'PAY_AMT6',\n",
       " 'default payment next month']"
      ]
     },
     "execution_count": 4,
     "metadata": {},
     "output_type": "execute_result"
    }
   ],
   "source": [
    "# Create features list\n",
    "features_response = df.columns.tolist()\n",
    "items_to_remove = ['ID', 'SEX', 'PAY_2', 'PAY_3', 'PAY_4', 'PAY_5', 'PAY_6',\n",
    "                   'EDUCATION_CAT', 'graduate school', 'high school', 'none',\n",
    "                   'others', 'university']\n",
    "features_response = [item for item in features_response if item not in items_to_remove]\n",
    "features_response"
   ]
  },
  {
   "cell_type": "markdown",
   "metadata": {},
   "source": [
    "_____________________________________________________\n",
    "**Next, make a 80:20 train/test split using a random seed of 24.**"
   ]
  },
  {
   "cell_type": "code",
   "execution_count": 5,
   "metadata": {},
   "outputs": [],
   "source": [
    "from sklearn.model_selection import train_test_split\n",
    "\n",
    "X_train, X_test, y_train, y_test = train_test_split(\n",
    "    df[features_response[:-1]].values,\n",
    "    df['default payment next month'].values,\n",
    "    test_size=0.2, random_state=24\n",
    ")"
   ]
  },
  {
   "cell_type": "markdown",
   "metadata": {},
   "source": [
    "_____________________________________________________\n",
    "**Then, instantiate the `MinMaxScaler` to scale the data.**"
   ]
  },
  {
   "cell_type": "code",
   "execution_count": 6,
   "metadata": {},
   "outputs": [],
   "source": [
    "scaler = MinMaxScaler()"
   ]
  },
  {
   "cell_type": "markdown",
   "metadata": {},
   "source": [
    "_____________________________________________________\n",
    "**Next, instantiate a logistic regression model with the `saga` solver, L1 penalty, and set `max_iter` to 1,000 as we want the solver to have enough iterations to find a good solution.**"
   ]
  },
  {
   "cell_type": "code",
   "execution_count": 7,
   "metadata": {},
   "outputs": [],
   "source": [
    "my_lr= LogisticRegression(solver='saga',max_iter = 1000)"
   ]
  },
  {
   "cell_type": "markdown",
   "metadata": {},
   "source": [
    "_____________________________________________________\n",
    "**Next, import the `Pipeline` class and create a `Pipeline` with the scaler and the logistic regression model, using the names `'scaler'` and `'model'` for the steps, respectively.**"
   ]
  },
  {
   "cell_type": "code",
   "execution_count": 8,
   "metadata": {},
   "outputs": [],
   "source": [
    "from sklearn.pipeline import Pipeline\n",
    "pipe = Pipeline([('scaler', scaler), ('LR', my_lr)])"
   ]
  },
  {
   "cell_type": "markdown",
   "metadata": {},
   "source": [
    "_____________________________________________________\n",
    "**Now, use the `get_params` method to view the parameters from each stage of the pipeline.**"
   ]
  },
  {
   "cell_type": "code",
   "execution_count": 9,
   "metadata": {
    "scrolled": false
   },
   "outputs": [],
   "source": [
    "# Use `get_params`\n",
    "param= pipe.get_params()"
   ]
  },
  {
   "cell_type": "markdown",
   "metadata": {},
   "source": [
    "**Use the `set_params` method to change the the `model__C` parameter to 2.**"
   ]
  },
  {
   "cell_type": "code",
   "execution_count": 10,
   "metadata": {},
   "outputs": [
    {
     "data": {
      "text/plain": [
       "1.0"
      ]
     },
     "execution_count": 10,
     "metadata": {},
     "output_type": "execute_result"
    }
   ],
   "source": [
    "# View what `model__C` is set to currently\n",
    "param['LR__C']"
   ]
  },
  {
   "cell_type": "code",
   "execution_count": 11,
   "metadata": {},
   "outputs": [
    {
     "data": {
      "text/plain": [
       "Pipeline(memory=None,\n",
       "     steps=[('scaler', MinMaxScaler(copy=True, feature_range=(0, 1))), ('LR', LogisticRegression(C=2, class_weight=None, dual=False, fit_intercept=True,\n",
       "          intercept_scaling=1, max_iter=1000, multi_class='ovr', n_jobs=1,\n",
       "          penalty='l2', random_state=None, solver='saga', tol=0.0001,\n",
       "          verbose=0, warm_start=False))])"
      ]
     },
     "execution_count": 11,
     "metadata": {},
     "output_type": "execute_result"
    }
   ],
   "source": [
    "# Change `model__C` to 2\n",
    "pipe.set_params(LR__C = 2)"
   ]
  },
  {
   "cell_type": "markdown",
   "metadata": {},
   "source": [
    "_____________________________________________________\n",
    "**Then, create a smaller range of C values to test with cross-validation, as these models will take longer to train and test with more data than our previous activities.**\n",
    "\n",
    "**Use C_vals = [$10^2$, $10$, $1$, $10^{-1}$, $10^{-2}$, $10^{-3}$].**\n",
    "\n",
    "\n",
    "<details>\n",
    "    <summary>Hint:</summary>\n",
    "    Recall that exponents in Python use the ** operator.\n",
    "</details>"
   ]
  },
  {
   "cell_type": "code",
   "execution_count": 12,
   "metadata": {},
   "outputs": [],
   "source": [
    "c_vals = [10**2,10,1,10**(-1),10**(-2),10**(-3)]"
   ]
  },
  {
   "cell_type": "markdown",
   "metadata": {},
   "source": [
    "Now, define `k_folds` using `StratifiedKFold`. The number of folds should be 4. Set the random state to 1."
   ]
  },
  {
   "cell_type": "code",
   "execution_count": 13,
   "metadata": {},
   "outputs": [],
   "source": [
    "kfold = StratifiedKFold(n_splits=4,shuffle=True ,random_state=1)"
   ]
  },
  {
   "cell_type": "markdown",
   "metadata": {},
   "source": [
    "_____________________________________________________\n",
    "**Next, make a new version of the `cross_val_C_search` function, called `cross_val_C_search_pipe`. Instead of the model argument, this function will take a pipeline argument. The changes inside the function will be to set the `C` value using `set_params(model__C = <value you want to test>)` on the pipeline, replacing the model with the pipeline for the fit and `predict_proba` methods, and accessing the `C` value using `pipeline.get_params()['model__C']` for the printed status update.**"
   ]
  },
  {
   "cell_type": "code",
   "execution_count": 14,
   "metadata": {},
   "outputs": [],
   "source": [
    "def cross_val_C_search_pipe(pipe,C,fc=False):\n",
    "    \"\"\"\n",
    "    Set the C value on the pipeline.\n",
    "    \"\"\"\n",
    "    pipe.set_params(LR__C = C)\n",
    "    pipe.fit(X_train,y_train)\n",
    "    if (fc):\n",
    "        print(f\"For {pipe.get_params()['LR__C']} predicted proba is:{pipe.predict_proba(X_test)}\")\n",
    "        print(\"-------------------------------------------------------------\")\n",
    "    return pipe.predict_proba(X_test)"
   ]
  },
  {
   "cell_type": "markdown",
   "metadata": {},
   "source": [
    "_____________________________________________________\n",
    "**Now, run this function as in the previous activity, but using the new range of `C` values, the pipeline you created, and the features and response variable from the training split of the case study data.**\n",
    "\n",
    "    You may see warnings here, or in later steps, about the non-convergence of the solver; you could experiment with the `tol` or `max_iter`` options to try and achieve convergence, although the results you obtain with `max_iter = 1000` are likely to be sufficient."
   ]
  },
  {
   "cell_type": "code",
   "execution_count": 15,
   "metadata": {},
   "outputs": [
    {
     "name": "stderr",
     "output_type": "stream",
     "text": [
      "D:\\anaconda\\lib\\site-packages\\sklearn\\utils\\validation.py:475: DataConversionWarning: Data with input dtype int64 was converted to float64 by MinMaxScaler.\n",
      "  warnings.warn(msg, DataConversionWarning)\n"
     ]
    },
    {
     "name": "stdout",
     "output_type": "stream",
     "text": [
      "For 100 predicted proba is:[[0.44850826 0.55149174]\n",
      " [0.63390937 0.36609063]\n",
      " [0.9000297  0.0999703 ]\n",
      " ...\n",
      " [0.87980042 0.12019958]\n",
      " [0.60680165 0.39319835]\n",
      " [0.46347379 0.53652621]]\n",
      "-------------------------------------------------------------\n",
      "[[0.44850826 0.55149174]\n",
      " [0.63390937 0.36609063]\n",
      " [0.9000297  0.0999703 ]\n",
      " ...\n",
      " [0.87980042 0.12019958]\n",
      " [0.60680165 0.39319835]\n",
      " [0.46347379 0.53652621]]\n"
     ]
    },
    {
     "name": "stderr",
     "output_type": "stream",
     "text": [
      "D:\\anaconda\\lib\\site-packages\\sklearn\\utils\\validation.py:475: DataConversionWarning: Data with input dtype int64 was converted to float64 by MinMaxScaler.\n",
      "  warnings.warn(msg, DataConversionWarning)\n"
     ]
    },
    {
     "name": "stdout",
     "output_type": "stream",
     "text": [
      "For 10 predicted proba is:[[0.44979807 0.55020193]\n",
      " [0.6354522  0.3645478 ]\n",
      " [0.90228282 0.09771718]\n",
      " ...\n",
      " [0.87418193 0.12581807]\n",
      " [0.60995588 0.39004412]\n",
      " [0.46542266 0.53457734]]\n",
      "-------------------------------------------------------------\n",
      "[[0.44979807 0.55020193]\n",
      " [0.6354522  0.3645478 ]\n",
      " [0.90228282 0.09771718]\n",
      " ...\n",
      " [0.87418193 0.12581807]\n",
      " [0.60995588 0.39004412]\n",
      " [0.46542266 0.53457734]]\n"
     ]
    },
    {
     "name": "stderr",
     "output_type": "stream",
     "text": [
      "D:\\anaconda\\lib\\site-packages\\sklearn\\utils\\validation.py:475: DataConversionWarning: Data with input dtype int64 was converted to float64 by MinMaxScaler.\n",
      "  warnings.warn(msg, DataConversionWarning)\n"
     ]
    },
    {
     "name": "stdout",
     "output_type": "stream",
     "text": [
      "For 1 predicted proba is:[[0.45974703 0.54025297]\n",
      " [0.64351078 0.35648922]\n",
      " [0.90348208 0.09651792]\n",
      " ...\n",
      " [0.85954744 0.14045256]\n",
      " [0.62246298 0.37753702]\n",
      " [0.47606174 0.52393826]]\n",
      "-------------------------------------------------------------\n",
      "[[0.45974703 0.54025297]\n",
      " [0.64351078 0.35648922]\n",
      " [0.90348208 0.09651792]\n",
      " ...\n",
      " [0.85954744 0.14045256]\n",
      " [0.62246298 0.37753702]\n",
      " [0.47606174 0.52393826]]\n"
     ]
    },
    {
     "name": "stderr",
     "output_type": "stream",
     "text": [
      "D:\\anaconda\\lib\\site-packages\\sklearn\\utils\\validation.py:475: DataConversionWarning: Data with input dtype int64 was converted to float64 by MinMaxScaler.\n",
      "  warnings.warn(msg, DataConversionWarning)\n"
     ]
    },
    {
     "name": "stdout",
     "output_type": "stream",
     "text": [
      "For 0.1 predicted proba is:[[0.52487357 0.47512643]\n",
      " [0.6675374  0.3324626 ]\n",
      " [0.88618535 0.11381465]\n",
      " ...\n",
      " [0.82756145 0.17243855]\n",
      " [0.66883633 0.33116367]\n",
      " [0.53805765 0.46194235]]\n",
      "-------------------------------------------------------------\n",
      "[[0.52487357 0.47512643]\n",
      " [0.6675374  0.3324626 ]\n",
      " [0.88618535 0.11381465]\n",
      " ...\n",
      " [0.82756145 0.17243855]\n",
      " [0.66883633 0.33116367]\n",
      " [0.53805765 0.46194235]]\n"
     ]
    },
    {
     "name": "stderr",
     "output_type": "stream",
     "text": [
      "D:\\anaconda\\lib\\site-packages\\sklearn\\utils\\validation.py:475: DataConversionWarning: Data with input dtype int64 was converted to float64 by MinMaxScaler.\n",
      "  warnings.warn(msg, DataConversionWarning)\n"
     ]
    },
    {
     "name": "stdout",
     "output_type": "stream",
     "text": [
      "For 0.01 predicted proba is:[[0.68337325 0.31662675]\n",
      " [0.72531974 0.27468026]\n",
      " [0.8303482  0.1696518 ]\n",
      " ...\n",
      " [0.78302655 0.21697345]\n",
      " [0.75372354 0.24627646]\n",
      " [0.69481478 0.30518522]]\n",
      "-------------------------------------------------------------\n",
      "[[0.68337325 0.31662675]\n",
      " [0.72531974 0.27468026]\n",
      " [0.8303482  0.1696518 ]\n",
      " ...\n",
      " [0.78302655 0.21697345]\n",
      " [0.75372354 0.24627646]\n",
      " [0.69481478 0.30518522]]\n"
     ]
    },
    {
     "name": "stderr",
     "output_type": "stream",
     "text": [
      "D:\\anaconda\\lib\\site-packages\\sklearn\\utils\\validation.py:475: DataConversionWarning: Data with input dtype int64 was converted to float64 by MinMaxScaler.\n",
      "  warnings.warn(msg, DataConversionWarning)\n"
     ]
    },
    {
     "name": "stdout",
     "output_type": "stream",
     "text": [
      "For 0.001 predicted proba is:[[0.76242253 0.23757747]\n",
      " [0.76800825 0.23199175]\n",
      " [0.78787469 0.21212531]\n",
      " ...\n",
      " [0.77695321 0.22304679]\n",
      " [0.77662506 0.22337494]\n",
      " [0.76735391 0.23264609]]\n",
      "-------------------------------------------------------------\n",
      "[[0.76242253 0.23757747]\n",
      " [0.76800825 0.23199175]\n",
      " [0.78787469 0.21212531]\n",
      " ...\n",
      " [0.77695321 0.22304679]\n",
      " [0.77662506 0.22337494]\n",
      " [0.76735391 0.23264609]]\n",
      "[[0.12707042 0.03959625]\n",
      " [0.12800137 0.03866529]\n",
      " [0.13131245 0.03535422]\n",
      " ...\n",
      " [0.1294922  0.03717447]\n",
      " [0.12943751 0.03722916]\n",
      " [0.12789232 0.03877435]]\n"
     ]
    }
   ],
   "source": [
    "for i in c_vals: \n",
    "    a=cross_val_C_search_pipe(pipe,i,fc=True)\n",
    "    b=a\n",
    "    b=(b+0)/len(c_vals)\n",
    "    print(a)\n",
    "print(b)"
   ]
  },
  {
   "cell_type": "markdown",
   "metadata": {},
   "source": [
    "_____________________________________________________\n",
    "**Plot the average training and testing ROC AUC across folds, for each `np.log(C_vals)` value.**"
   ]
  },
  {
   "cell_type": "code",
   "execution_count": 16,
   "metadata": {},
   "outputs": [
    {
     "name": "stdout",
     "output_type": "stream",
     "text": [
      "0.7019639049318321\n"
     ]
    },
    {
     "data": {
      "text/plain": [
       "Text(0.5,1,'ROC curve')"
      ]
     },
     "execution_count": 16,
     "metadata": {},
     "output_type": "execute_result"
    },
    {
     "data": {
      "image/png": "[encoded data removed]",
      "text/plain": [
       "<Figure size 720x432 with 1 Axes>"
      ]
     },
     "metadata": {
      "needs_background": "light"
     },
     "output_type": "display_data"
    }
   ],
   "source": [
    "plt.figure(figsize=(10,6))\n",
    "y_pred=b[:,1]\n",
    "fpr, tpr, thresholds =roc_curve(y_test,y_pred)\n",
    "print(roc_auc_score(y_test,y_pred))\n",
    "plt.plot(fpr, tpr)\n",
    "plt.plot([0, 1], [0, 1], 'r--')\n",
    "plt.legend(['Logistic regression', 'Random chance'])\n",
    "plt.xlabel('FPR')\n",
    "plt.ylabel('TPR')\n",
    "plt.title('ROC curve')"
   ]
  },
  {
   "cell_type": "markdown",
   "metadata": {},
   "source": [
    "_____________________________________________________\n",
    "**Up next, create interaction features for the case study data using scikit-learn's `PolynomialFeatures`. You should use 2 as the degree of polynomial features. Confirm that the number of new features makes sense.**"
   ]
  },
  {
   "cell_type": "code",
   "execution_count": 17,
   "metadata": {},
   "outputs": [],
   "source": [
    "\n",
    "from sklearn.preprocessing import PolynomialFeatures\n",
    "poly = PolynomialFeatures(degree=2)\n",
    "X_trans = poly.fit_transform(X_train)"
   ]
  },
  {
   "cell_type": "markdown",
   "metadata": {},
   "source": [
    "_____________________________________________________\n",
    "**Finally, repeat the cross-validation procedure and observe the model performance now.**"
   ]
  },
  {
   "cell_type": "code",
   "execution_count": 18,
   "metadata": {},
   "outputs": [],
   "source": [
    "# Using the new features, make a 80:20 train/test split using a random seed of 24.**\n",
    "\n",
    "X_train,X_test,Y_train,Y_test = train_test_split( df[features_response[:-1]].values,df['default payment next month'].values,test_size = 0.20,random_state = 24)"
   ]
  },
  {
   "cell_type": "code",
   "execution_count": 19,
   "metadata": {},
   "outputs": [
    {
     "name": "stderr",
     "output_type": "stream",
     "text": [
      "D:\\anaconda\\lib\\site-packages\\sklearn\\utils\\validation.py:475: DataConversionWarning: Data with input dtype int64 was converted to float64 by MinMaxScaler.\n",
      "  warnings.warn(msg, DataConversionWarning)\n"
     ]
    },
    {
     "name": "stdout",
     "output_type": "stream",
     "text": [
      "For 100 predicted proba is:[[0.44850792 0.55149208]\n",
      " [0.63390923 0.36609077]\n",
      " [0.9000295  0.0999705 ]\n",
      " ...\n",
      " [0.87979985 0.12020015]\n",
      " [0.60680126 0.39319874]\n",
      " [0.46347336 0.53652664]]\n",
      "-------------------------------------------------------------\n",
      "[[0.44850792 0.55149208]\n",
      " [0.63390923 0.36609077]\n",
      " [0.9000295  0.0999705 ]\n",
      " ...\n",
      " [0.87979985 0.12020015]\n",
      " [0.60680126 0.39319874]\n",
      " [0.46347336 0.53652664]]\n"
     ]
    },
    {
     "name": "stderr",
     "output_type": "stream",
     "text": [
      "D:\\anaconda\\lib\\site-packages\\sklearn\\utils\\validation.py:475: DataConversionWarning: Data with input dtype int64 was converted to float64 by MinMaxScaler.\n",
      "  warnings.warn(msg, DataConversionWarning)\n"
     ]
    },
    {
     "name": "stdout",
     "output_type": "stream",
     "text": [
      "For 10 predicted proba is:[[0.44979893 0.55020107]\n",
      " [0.63545302 0.36454698]\n",
      " [0.90228319 0.09771681]\n",
      " ...\n",
      " [0.8741821  0.1258179 ]\n",
      " [0.60995698 0.39004302]\n",
      " [0.46542368 0.53457632]]\n",
      "-------------------------------------------------------------\n",
      "[[0.44979893 0.55020107]\n",
      " [0.63545302 0.36454698]\n",
      " [0.90228319 0.09771681]\n",
      " ...\n",
      " [0.8741821  0.1258179 ]\n",
      " [0.60995698 0.39004302]\n",
      " [0.46542368 0.53457632]]\n"
     ]
    },
    {
     "name": "stderr",
     "output_type": "stream",
     "text": [
      "D:\\anaconda\\lib\\site-packages\\sklearn\\utils\\validation.py:475: DataConversionWarning: Data with input dtype int64 was converted to float64 by MinMaxScaler.\n",
      "  warnings.warn(msg, DataConversionWarning)\n"
     ]
    },
    {
     "name": "stdout",
     "output_type": "stream",
     "text": [
      "For 1 predicted proba is:[[0.45974614 0.54025386]\n",
      " [0.64351    0.35649   ]\n",
      " [0.9034801  0.0965199 ]\n",
      " ...\n",
      " [0.85954592 0.14045408]\n",
      " [0.62246177 0.37753823]\n",
      " [0.47606149 0.52393851]]\n",
      "-------------------------------------------------------------\n",
      "[[0.45974614 0.54025386]\n",
      " [0.64351    0.35649   ]\n",
      " [0.9034801  0.0965199 ]\n",
      " ...\n",
      " [0.85954592 0.14045408]\n",
      " [0.62246177 0.37753823]\n",
      " [0.47606149 0.52393851]]\n"
     ]
    },
    {
     "name": "stderr",
     "output_type": "stream",
     "text": [
      "D:\\anaconda\\lib\\site-packages\\sklearn\\utils\\validation.py:475: DataConversionWarning: Data with input dtype int64 was converted to float64 by MinMaxScaler.\n",
      "  warnings.warn(msg, DataConversionWarning)\n"
     ]
    },
    {
     "name": "stdout",
     "output_type": "stream",
     "text": [
      "For 0.1 predicted proba is:[[0.52487002 0.47512998]\n",
      " [0.66754895 0.33245105]\n",
      " [0.88619603 0.11380397]\n",
      " ...\n",
      " [0.82757028 0.17242972]\n",
      " [0.66885333 0.33114667]\n",
      " [0.53807139 0.46192861]]\n",
      "-------------------------------------------------------------\n",
      "[[0.52487002 0.47512998]\n",
      " [0.66754895 0.33245105]\n",
      " [0.88619603 0.11380397]\n",
      " ...\n",
      " [0.82757028 0.17242972]\n",
      " [0.66885333 0.33114667]\n",
      " [0.53807139 0.46192861]]\n"
     ]
    },
    {
     "name": "stderr",
     "output_type": "stream",
     "text": [
      "D:\\anaconda\\lib\\site-packages\\sklearn\\utils\\validation.py:475: DataConversionWarning: Data with input dtype int64 was converted to float64 by MinMaxScaler.\n",
      "  warnings.warn(msg, DataConversionWarning)\n"
     ]
    },
    {
     "name": "stdout",
     "output_type": "stream",
     "text": [
      "For 0.01 predicted proba is:[[0.68336251 0.31663749]\n",
      " [0.72530243 0.27469757]\n",
      " [0.83033768 0.16966232]\n",
      " ...\n",
      " [0.78302381 0.21697619]\n",
      " [0.75369866 0.24630134]\n",
      " [0.69479094 0.30520906]]\n",
      "-------------------------------------------------------------\n",
      "[[0.68336251 0.31663749]\n",
      " [0.72530243 0.27469757]\n",
      " [0.83033768 0.16966232]\n",
      " ...\n",
      " [0.78302381 0.21697619]\n",
      " [0.75369866 0.24630134]\n",
      " [0.69479094 0.30520906]]\n"
     ]
    },
    {
     "name": "stderr",
     "output_type": "stream",
     "text": [
      "D:\\anaconda\\lib\\site-packages\\sklearn\\utils\\validation.py:475: DataConversionWarning: Data with input dtype int64 was converted to float64 by MinMaxScaler.\n",
      "  warnings.warn(msg, DataConversionWarning)\n"
     ]
    },
    {
     "name": "stdout",
     "output_type": "stream",
     "text": [
      "For 0.001 predicted proba is:[[0.76241988 0.23758012]\n",
      " [0.76800463 0.23199537]\n",
      " [0.78787235 0.21212765]\n",
      " ...\n",
      " [0.77695157 0.22304843]\n",
      " [0.7766221  0.2233779 ]\n",
      " [0.76735111 0.23264889]]\n",
      "-------------------------------------------------------------\n",
      "[[0.76241988 0.23758012]\n",
      " [0.76800463 0.23199537]\n",
      " [0.78787235 0.21212765]\n",
      " ...\n",
      " [0.77695157 0.22304843]\n",
      " [0.7766221  0.2233779 ]\n",
      " [0.76735111 0.23264889]]\n",
      "[[0.12706998 0.03959669]\n",
      " [0.12800077 0.0386659 ]\n",
      " [0.13131206 0.03535461]\n",
      " ...\n",
      " [0.12949193 0.03717474]\n",
      " [0.12943702 0.03722965]\n",
      " [0.12789185 0.03877482]]\n"
     ]
    }
   ],
   "source": [
    "# Call the cross_val_C_search_pipe() function using the new training data.\n",
    "# All other parameters should remain the same.\n",
    "# Note that this training may take a few minutes due to the larger number of features.\n",
    "for i in c_vals: \n",
    "    a=cross_val_C_search_pipe(pipe,i,fc=True)\n",
    "    b=a\n",
    "    b=(b+0)/len(c_vals)\n",
    "    print(a)\n",
    "print(b)\n"
   ]
  },
  {
   "cell_type": "code",
   "execution_count": 20,
   "metadata": {
    "eid": "b4f5a"
   },
   "outputs": [
    {
     "name": "stdout",
     "output_type": "stream",
     "text": [
      "0.7019620398749168\n"
     ]
    },
    {
     "data": {
      "text/plain": [
       "Text(0.5,1,'ROC curve')"
      ]
     },
     "execution_count": 20,
     "metadata": {},
     "output_type": "execute_result"
    },
    {
     "data": {
      "image/png": "[encoded data removed]",
      "text/plain": [
       "<Figure size 720x432 with 1 Axes>"
      ]
     },
     "metadata": {
      "needs_background": "light"
     },
     "output_type": "display_data"
    }
   ],
   "source": [
    "# Plot the average training and testing ROC AUC across folds, for each C value.\n",
    "plt.figure(figsize=(10,6))\n",
    "y_pred=b[:,1]\n",
    "fpr, tpr, thresholds =roc_curve(y_test,y_pred)\n",
    "print(roc_auc_score(y_test,y_pred))\n",
    "plt.plot(fpr, tpr)\n",
    "plt.plot([0, 1], [0, 1], 'r--')\n",
    "plt.legend(['Logistic regression', 'Random chance'])\n",
    "plt.xlabel('FPR')\n",
    "plt.ylabel('TPR')\n",
    "plt.title('ROC curve')"
   ]
  },
  {
   "cell_type": "markdown",
   "metadata": {},
   "source": [
    "**Take a look at the above graph. Does the average cross-validation testing performance improve with the interaction features? Is regularization useful?**"
   ]
  }
 ],
 "metadata": {
  "kernelspec": {
   "display_name": "Python 3",
   "language": "python",
   "name": "python3"
  },
  "language_info": {
   "codemirror_mode": {
    "name": "ipython",
    "version": 3
   },
   "file_extension": ".py",
   "mimetype": "text/x-python",
   "name": "python",
   "nbconvert_exporter": "python",
   "pygments_lexer": "ipython3",
   "version": "3.6.5"
  }
 },
 "nbformat": 4,
 "nbformat_minor": 2
}
